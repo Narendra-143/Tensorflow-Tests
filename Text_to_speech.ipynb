{
  "nbformat": 4,
  "nbformat_minor": 0,
  "metadata": {
    "colab": {
      "name": "Text_to_speech.ipynb",
      "provenance": [],
      "authorship_tag": "ABX9TyPm24txlyklrwAN4iH0gh4F"
    },
    "kernelspec": {
      "name": "python3",
      "display_name": "Python 3"
    },
    "language_info": {
      "name": "python"
    }
  },
  "cells": [
    {
      "cell_type": "code",
      "metadata": {
        "colab": {
          "base_uri": "https://localhost:8080/"
        },
        "id": "BZMcysfXMVgs",
        "outputId": "586bc593-1320-4983-8830-719520457ccb"
      },
      "source": [
        "!pip install gTTS"
      ],
      "execution_count": null,
      "outputs": [
        {
          "output_type": "stream",
          "name": "stdout",
          "text": [
            "Collecting gTTS\n",
            "  Downloading gTTS-2.2.3-py3-none-any.whl (25 kB)\n",
            "Requirement already satisfied: click in /usr/local/lib/python3.7/dist-packages (from gTTS) (7.1.2)\n",
            "Requirement already satisfied: six in /usr/local/lib/python3.7/dist-packages (from gTTS) (1.15.0)\n",
            "Requirement already satisfied: requests in /usr/local/lib/python3.7/dist-packages (from gTTS) (2.23.0)\n",
            "Requirement already satisfied: chardet<4,>=3.0.2 in /usr/local/lib/python3.7/dist-packages (from requests->gTTS) (3.0.4)\n",
            "Requirement already satisfied: certifi>=2017.4.17 in /usr/local/lib/python3.7/dist-packages (from requests->gTTS) (2021.5.30)\n",
            "Requirement already satisfied: idna<3,>=2.5 in /usr/local/lib/python3.7/dist-packages (from requests->gTTS) (2.10)\n",
            "Requirement already satisfied: urllib3!=1.25.0,!=1.25.1,<1.26,>=1.21.1 in /usr/local/lib/python3.7/dist-packages (from requests->gTTS) (1.24.3)\n",
            "Installing collected packages: gTTS\n",
            "Successfully installed gTTS-2.2.3\n"
          ]
        }
      ]
    },
    {
      "cell_type": "code",
      "metadata": {
        "id": "Pq3TL5YIMfyB"
      },
      "source": [
        "from gtts import gTTS\n",
        "import os\n",
        "from IPython.display import Audio"
      ],
      "execution_count": null,
      "outputs": []
    },
    {
      "cell_type": "code",
      "metadata": {
        "id": "86M3eer_MoDs",
        "colab": {
          "base_uri": "https://localhost:8080/",
          "height": 75
        },
        "outputId": "7e58e81e-1cee-440f-c4a0-8631532239cd"
      },
      "source": [
        "mytext = \"What are you upto?\"\n",
        "language = 'en'\n",
        "myobj = gTTS(text=mytext, lang=language, slow=False)\n",
        "myobj.save(\"welcome.mp3\")\n",
        "Audio(\"welcome.mp3\",autoplay=True)"
      ],
      "execution_count": null,
      "outputs": [
        {
          "output_type": "execute_result",
          "data": {
            "text/html": [
              "\n",
              "                <audio controls=\"controls\" autoplay=\"autoplay\">\n",
              "                    <source src=\"data:audio/mpeg;base64,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\" type=\"audio/mpeg\" />\n",
              "                    Your browser does not support the audio element.\n",
              "                </audio>\n",
              "              "
            ],
            "text/plain": [
              "<IPython.lib.display.Audio object>"
            ]
          },
          "metadata": {},
          "execution_count": 5
        }
      ]
    },
    {
      "cell_type": "code",
      "metadata": {
        "id": "SiOSlx23M5Pr"
      },
      "source": [
        ""
      ],
      "execution_count": null,
      "outputs": []
    }
  ]
}