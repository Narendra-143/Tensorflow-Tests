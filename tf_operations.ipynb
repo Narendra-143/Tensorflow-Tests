{
  "nbformat": 4,
  "nbformat_minor": 0,
  "metadata": {
    "colab": {
      "name": "tf_operations.ipynb",
      "provenance": [],
      "collapsed_sections": []
    },
    "kernelspec": {
      "name": "python3",
      "display_name": "Python 3"
    }
  },
  "cells": [
    {
      "cell_type": "code",
      "metadata": {
        "id": "TRhPsuHfvXkN",
        "colab": {
          "base_uri": "https://localhost:8080/",
          "height": 34
        },
        "outputId": "e204b9ae-3caa-4b6b-a114-00709a429241"
      },
      "source": [
        "import tensorflow as tf\n",
        "tf.InteractiveSession()"
      ],
      "execution_count": null,
      "outputs": [
        {
          "output_type": "execute_result",
          "data": {
            "text/plain": [
              "<tensorflow.python.client.session.InteractiveSession at 0x7f7ca5e79128>"
            ]
          },
          "metadata": {
            "tags": []
          },
          "execution_count": 1
        }
      ]
    },
    {
      "cell_type": "code",
      "metadata": {
        "id": "2sEutpuKwF0_",
        "colab": {
          "base_uri": "https://localhost:8080/",
          "height": 34
        },
        "outputId": "4b071874-0128-48e0-d50d-1d62991cfbf8"
      },
      "source": [
        "a = tf.zeros(2)\n",
        "a.eval()"
      ],
      "execution_count": null,
      "outputs": [
        {
          "output_type": "execute_result",
          "data": {
            "text/plain": [
              "array([0., 0.], dtype=float32)"
            ]
          },
          "metadata": {
            "tags": []
          },
          "execution_count": 2
        }
      ]
    },
    {
      "cell_type": "code",
      "metadata": {
        "id": "Qe23o_bHwTNW",
        "colab": {
          "base_uri": "https://localhost:8080/",
          "height": 51
        },
        "outputId": "51310fa0-2966-45f2-c4b7-0ae4211fc7b7"
      },
      "source": [
        "b = tf.ones((2,3))\n",
        "b.eval()\n"
      ],
      "execution_count": null,
      "outputs": [
        {
          "output_type": "execute_result",
          "data": {
            "text/plain": [
              "array([[1., 1., 1.],\n",
              "       [1., 1., 1.]], dtype=float32)"
            ]
          },
          "metadata": {
            "tags": []
          },
          "execution_count": 3
        }
      ]
    },
    {
      "cell_type": "code",
      "metadata": {
        "id": "0Xodtrwewcmo",
        "colab": {
          "base_uri": "https://localhost:8080/",
          "height": 85
        },
        "outputId": "4bf9a37e-705b-4c14-dc4a-0c5010f1bf82"
      },
      "source": [
        "c = tf.fill((4,3), value=3.2)\n",
        "c.eval()"
      ],
      "execution_count": null,
      "outputs": [
        {
          "output_type": "execute_result",
          "data": {
            "text/plain": [
              "array([[3.2, 3.2, 3.2],\n",
              "       [3.2, 3.2, 3.2],\n",
              "       [3.2, 3.2, 3.2],\n",
              "       [3.2, 3.2, 3.2]], dtype=float32)"
            ]
          },
          "metadata": {
            "tags": []
          },
          "execution_count": 4
        }
      ]
    },
    {
      "cell_type": "code",
      "metadata": {
        "id": "IDSvF3yYww7c",
        "colab": {
          "base_uri": "https://localhost:8080/",
          "height": 34
        },
        "outputId": "cabd56df-e028-4da9-86ba-187efc1458e8"
      },
      "source": [
        "a = tf.constant(3)\n",
        "a.eval()"
      ],
      "execution_count": null,
      "outputs": [
        {
          "output_type": "execute_result",
          "data": {
            "text/plain": [
              "3"
            ]
          },
          "metadata": {
            "tags": []
          },
          "execution_count": 5
        }
      ]
    },
    {
      "cell_type": "code",
      "metadata": {
        "id": "9RThFmjIw7Aw",
        "colab": {
          "base_uri": "https://localhost:8080/",
          "height": 68
        },
        "outputId": "8715be7c-d10f-47fd-e9e7-d798fe973930"
      },
      "source": [
        "a = tf.random_normal((3,3), mean = 0, stddev = 1)\n",
        "a.eval()"
      ],
      "execution_count": null,
      "outputs": [
        {
          "output_type": "execute_result",
          "data": {
            "text/plain": [
              "array([[-0.889472  ,  0.0844826 , -0.30721888],\n",
              "       [-0.5375742 ,  0.36548775,  1.7699789 ],\n",
              "       [-0.81044394,  0.7252283 ,  0.21359485]], dtype=float32)"
            ]
          },
          "metadata": {
            "tags": []
          },
          "execution_count": 6
        }
      ]
    },
    {
      "cell_type": "code",
      "metadata": {
        "id": "qNbLaFxcxNvf",
        "colab": {
          "base_uri": "https://localhost:8080/",
          "height": 51
        },
        "outputId": "8a4ff5df-4d46-4c69-bfb4-48843f9b6174"
      },
      "source": [
        "b = tf.truncated_normal((2,2), mean=0, stddev=2)\n",
        "b.eval()"
      ],
      "execution_count": null,
      "outputs": [
        {
          "output_type": "execute_result",
          "data": {
            "text/plain": [
              "array([[2.9228816, 2.4135451],\n",
              "       [1.0338631, 1.5506045]], dtype=float32)"
            ]
          },
          "metadata": {
            "tags": []
          },
          "execution_count": 7
        }
      ]
    },
    {
      "cell_type": "code",
      "metadata": {
        "id": "T-aSHU4HxaxL",
        "colab": {
          "base_uri": "https://localhost:8080/",
          "height": 85
        },
        "outputId": "d660592c-b105-4e87-cbb4-8cf594d0bbf4"
      },
      "source": [
        "u = tf.random_uniform((4,4), minval=0, maxval=4)\n",
        "u.eval()"
      ],
      "execution_count": null,
      "outputs": [
        {
          "output_type": "execute_result",
          "data": {
            "text/plain": [
              "array([[0.56864023, 1.4896016 , 0.41747808, 2.1328754 ],\n",
              "       [2.7821808 , 0.7568073 , 2.7148619 , 1.0112348 ],\n",
              "       [1.3655252 , 1.8308392 , 1.8543782 , 0.82537794],\n",
              "       [1.4474301 , 3.9753623 , 2.36659   , 0.8141947 ]], dtype=float32)"
            ]
          },
          "metadata": {
            "tags": []
          },
          "execution_count": 8
        }
      ]
    },
    {
      "cell_type": "code",
      "metadata": {
        "id": "T0faoqjzx4f2",
        "colab": {
          "base_uri": "https://localhost:8080/",
          "height": 68
        },
        "outputId": "c9ed10c4-c57b-41b0-8056-e5665a3d820a"
      },
      "source": [
        "x = tf.ones((2,2))\n",
        "y = tf.ones((2,2))\n",
        "z = x+y\n",
        "z.eval()\n",
        "print(z)\n",
        "z2 = 2*z\n",
        "z2.eval()"
      ],
      "execution_count": null,
      "outputs": [
        {
          "output_type": "stream",
          "text": [
            "Tensor(\"add:0\", shape=(2, 2), dtype=float32)\n"
          ],
          "name": "stdout"
        },
        {
          "output_type": "execute_result",
          "data": {
            "text/plain": [
              "array([[4., 4.],\n",
              "       [4., 4.]], dtype=float32)"
            ]
          },
          "metadata": {
            "tags": []
          },
          "execution_count": 9
        }
      ]
    },
    {
      "cell_type": "code",
      "metadata": {
        "id": "u-X3zTAByV21",
        "colab": {
          "base_uri": "https://localhost:8080/",
          "height": 102
        },
        "outputId": "f3fdc50f-79db-49f0-ee28-c98e2b91adce"
      },
      "source": [
        "i = tf.eye(5)\n",
        "i.eval()"
      ],
      "execution_count": null,
      "outputs": [
        {
          "output_type": "execute_result",
          "data": {
            "text/plain": [
              "array([[1., 0., 0., 0., 0.],\n",
              "       [0., 1., 0., 0., 0.],\n",
              "       [0., 0., 1., 0., 0.],\n",
              "       [0., 0., 0., 1., 0.],\n",
              "       [0., 0., 0., 0., 1.]], dtype=float32)"
            ]
          },
          "metadata": {
            "tags": []
          },
          "execution_count": 10
        }
      ]
    },
    {
      "cell_type": "code",
      "metadata": {
        "id": "EHiVaaWayrpl",
        "colab": {
          "base_uri": "https://localhost:8080/",
          "height": 119
        },
        "outputId": "bd7dbd34-4db1-498e-f29c-d9c3fa927843"
      },
      "source": [
        "r = tf.range(5,11,1)\n",
        "d = tf.diag(r)\n",
        "d.eval()"
      ],
      "execution_count": null,
      "outputs": [
        {
          "output_type": "execute_result",
          "data": {
            "text/plain": [
              "array([[ 5,  0,  0,  0,  0,  0],\n",
              "       [ 0,  6,  0,  0,  0,  0],\n",
              "       [ 0,  0,  7,  0,  0,  0],\n",
              "       [ 0,  0,  0,  8,  0,  0],\n",
              "       [ 0,  0,  0,  0,  9,  0],\n",
              "       [ 0,  0,  0,  0,  0, 10]], dtype=int32)"
            ]
          },
          "metadata": {
            "tags": []
          },
          "execution_count": 11
        }
      ]
    },
    {
      "cell_type": "code",
      "metadata": {
        "id": "-ej3HLZSzVX6",
        "colab": {
          "base_uri": "https://localhost:8080/",
          "height": 119
        },
        "outputId": "9c9e6f30-bf46-4ddc-f3a0-bf9ea9bb56ba"
      },
      "source": [
        "e = tf.matrix_transpose(d+tf.fill((6,6), value = 2))\n",
        "e.eval()"
      ],
      "execution_count": null,
      "outputs": [
        {
          "output_type": "execute_result",
          "data": {
            "text/plain": [
              "array([[ 7,  2,  2,  2,  2,  2],\n",
              "       [ 2,  8,  2,  2,  2,  2],\n",
              "       [ 2,  2,  9,  2,  2,  2],\n",
              "       [ 2,  2,  2, 10,  2,  2],\n",
              "       [ 2,  2,  2,  2, 11,  2],\n",
              "       [ 2,  2,  2,  2,  2, 12]], dtype=int32)"
            ]
          },
          "metadata": {
            "tags": []
          },
          "execution_count": 12
        }
      ]
    },
    {
      "cell_type": "code",
      "metadata": {
        "id": "5KC-1ATZz0-A",
        "colab": {
          "base_uri": "https://localhost:8080/",
          "height": 119
        },
        "outputId": "dc1a02b1-ccba-4836-8869-7ec2173bdfbe"
      },
      "source": [
        "f = tf.matmul(d,e)\n",
        "f.eval()"
      ],
      "execution_count": null,
      "outputs": [
        {
          "output_type": "execute_result",
          "data": {
            "text/plain": [
              "array([[ 35,  10,  10,  10,  10,  10],\n",
              "       [ 12,  48,  12,  12,  12,  12],\n",
              "       [ 14,  14,  63,  14,  14,  14],\n",
              "       [ 16,  16,  16,  80,  16,  16],\n",
              "       [ 18,  18,  18,  18,  99,  18],\n",
              "       [ 20,  20,  20,  20,  20, 120]], dtype=int32)"
            ]
          },
          "metadata": {
            "tags": []
          },
          "execution_count": 13
        }
      ]
    },
    {
      "cell_type": "code",
      "metadata": {
        "id": "DY3g9rWX0BUN",
        "colab": {
          "base_uri": "https://localhost:8080/",
          "height": 190
        },
        "outputId": "171709a7-e8fc-44bc-cca6-0385c2393152"
      },
      "source": [
        "g = tf.to_float(f)\n",
        "g.eval()"
      ],
      "execution_count": null,
      "outputs": [
        {
          "output_type": "stream",
          "text": [
            "WARNING:tensorflow:From <ipython-input-14-0f3d38dbd58a>:1: to_float (from tensorflow.python.ops.math_ops) is deprecated and will be removed in a future version.\n",
            "Instructions for updating:\n",
            "Use tf.cast instead.\n"
          ],
          "name": "stdout"
        },
        {
          "output_type": "execute_result",
          "data": {
            "text/plain": [
              "array([[ 35.,  10.,  10.,  10.,  10.,  10.],\n",
              "       [ 12.,  48.,  12.,  12.,  12.,  12.],\n",
              "       [ 14.,  14.,  63.,  14.,  14.,  14.],\n",
              "       [ 16.,  16.,  16.,  80.,  16.,  16.],\n",
              "       [ 18.,  18.,  18.,  18.,  99.,  18.],\n",
              "       [ 20.,  20.,  20.,  20.,  20., 120.]], dtype=float32)"
            ]
          },
          "metadata": {
            "tags": []
          },
          "execution_count": 14
        }
      ]
    },
    {
      "cell_type": "code",
      "metadata": {
        "id": "x_vwZ9RC0Yi0",
        "colab": {
          "base_uri": "https://localhost:8080/",
          "height": 221
        },
        "outputId": "539f65cc-f4ca-4f1c-f86f-8ad6b4f93d45"
      },
      "source": [
        "h = tf.reshape(g, (12,3))\n",
        "h.eval()"
      ],
      "execution_count": null,
      "outputs": [
        {
          "output_type": "execute_result",
          "data": {
            "text/plain": [
              "array([[ 35.,  10.,  10.],\n",
              "       [ 10.,  10.,  10.],\n",
              "       [ 12.,  48.,  12.],\n",
              "       [ 12.,  12.,  12.],\n",
              "       [ 14.,  14.,  63.],\n",
              "       [ 14.,  14.,  14.],\n",
              "       [ 16.,  16.,  16.],\n",
              "       [ 80.,  16.,  16.],\n",
              "       [ 18.,  18.,  18.],\n",
              "       [ 18.,  99.,  18.],\n",
              "       [ 20.,  20.,  20.],\n",
              "       [ 20.,  20., 120.]], dtype=float32)"
            ]
          },
          "metadata": {
            "tags": []
          },
          "execution_count": 15
        }
      ]
    },
    {
      "cell_type": "code",
      "metadata": {
        "id": "vWAmwce48QdH",
        "colab": {
          "base_uri": "https://localhost:8080/",
          "height": 34
        },
        "outputId": "3aa14122-b6b8-4844-ea74-a4c57dabb255"
      },
      "source": [
        "h.get_shape()"
      ],
      "execution_count": null,
      "outputs": [
        {
          "output_type": "execute_result",
          "data": {
            "text/plain": [
              "TensorShape([Dimension(12), Dimension(3)])"
            ]
          },
          "metadata": {
            "tags": []
          },
          "execution_count": 16
        }
      ]
    },
    {
      "cell_type": "code",
      "metadata": {
        "id": "Bx93vnWC8gE3",
        "colab": {
          "base_uri": "https://localhost:8080/",
          "height": 408
        },
        "outputId": "4d65d7a4-4e9d-4409-e3a7-8027c59236e4"
      },
      "source": [
        "j = tf.expand_dims(h,1)\n",
        "j.eval()"
      ],
      "execution_count": null,
      "outputs": [
        {
          "output_type": "execute_result",
          "data": {
            "text/plain": [
              "array([[[ 35.,  10.,  10.]],\n",
              "\n",
              "       [[ 10.,  10.,  10.]],\n",
              "\n",
              "       [[ 12.,  48.,  12.]],\n",
              "\n",
              "       [[ 12.,  12.,  12.]],\n",
              "\n",
              "       [[ 14.,  14.,  63.]],\n",
              "\n",
              "       [[ 14.,  14.,  14.]],\n",
              "\n",
              "       [[ 16.,  16.,  16.]],\n",
              "\n",
              "       [[ 80.,  16.,  16.]],\n",
              "\n",
              "       [[ 18.,  18.,  18.]],\n",
              "\n",
              "       [[ 18.,  99.,  18.]],\n",
              "\n",
              "       [[ 20.,  20.,  20.]],\n",
              "\n",
              "       [[ 20.,  20., 120.]]], dtype=float32)"
            ]
          },
          "metadata": {
            "tags": []
          },
          "execution_count": 17
        }
      ]
    },
    {
      "cell_type": "code",
      "metadata": {
        "id": "e0G4A0J78-1u",
        "colab": {
          "base_uri": "https://localhost:8080/",
          "height": 34
        },
        "outputId": "493a772d-8c9c-4f6e-bc5e-8f58a49211db"
      },
      "source": [
        "j.get_shape()"
      ],
      "execution_count": null,
      "outputs": [
        {
          "output_type": "execute_result",
          "data": {
            "text/plain": [
              "TensorShape([Dimension(12), Dimension(1), Dimension(3)])"
            ]
          },
          "metadata": {
            "tags": []
          },
          "execution_count": 18
        }
      ]
    },
    {
      "cell_type": "code",
      "metadata": {
        "id": "xxbV8pxk9DXC",
        "colab": {
          "base_uri": "https://localhost:8080/",
          "height": 479
        },
        "outputId": "c953a531-7007-4ba1-d0b1-1a0732879210"
      },
      "source": [
        "k = tf.to_int32(j)\n",
        "k.eval()"
      ],
      "execution_count": null,
      "outputs": [
        {
          "output_type": "stream",
          "text": [
            "WARNING:tensorflow:From <ipython-input-19-befbb7e78e19>:1: to_int32 (from tensorflow.python.ops.math_ops) is deprecated and will be removed in a future version.\n",
            "Instructions for updating:\n",
            "Use tf.cast instead.\n"
          ],
          "name": "stdout"
        },
        {
          "output_type": "execute_result",
          "data": {
            "text/plain": [
              "array([[[ 35,  10,  10]],\n",
              "\n",
              "       [[ 10,  10,  10]],\n",
              "\n",
              "       [[ 12,  48,  12]],\n",
              "\n",
              "       [[ 12,  12,  12]],\n",
              "\n",
              "       [[ 14,  14,  63]],\n",
              "\n",
              "       [[ 14,  14,  14]],\n",
              "\n",
              "       [[ 16,  16,  16]],\n",
              "\n",
              "       [[ 80,  16,  16]],\n",
              "\n",
              "       [[ 18,  18,  18]],\n",
              "\n",
              "       [[ 18,  99,  18]],\n",
              "\n",
              "       [[ 20,  20,  20]],\n",
              "\n",
              "       [[ 20,  20, 120]]], dtype=int32)"
            ]
          },
          "metadata": {
            "tags": []
          },
          "execution_count": 19
        }
      ]
    },
    {
      "cell_type": "code",
      "metadata": {
        "id": "_gq1B1MU9WON",
        "colab": {
          "base_uri": "https://localhost:8080/",
          "height": 221
        },
        "outputId": "8e641af8-3dab-42b1-d72a-f6e260679a0d"
      },
      "source": [
        "l = tf.squeeze(k)\n",
        "l.eval()"
      ],
      "execution_count": null,
      "outputs": [
        {
          "output_type": "execute_result",
          "data": {
            "text/plain": [
              "array([[ 35,  10,  10],\n",
              "       [ 10,  10,  10],\n",
              "       [ 12,  48,  12],\n",
              "       [ 12,  12,  12],\n",
              "       [ 14,  14,  63],\n",
              "       [ 14,  14,  14],\n",
              "       [ 16,  16,  16],\n",
              "       [ 80,  16,  16],\n",
              "       [ 18,  18,  18],\n",
              "       [ 18,  99,  18],\n",
              "       [ 20,  20,  20],\n",
              "       [ 20,  20, 120]], dtype=int32)"
            ]
          },
          "metadata": {
            "tags": []
          },
          "execution_count": 20
        }
      ]
    },
    {
      "cell_type": "code",
      "metadata": {
        "id": "N5qDCIWt9oHU",
        "colab": {
          "base_uri": "https://localhost:8080/",
          "height": 34
        },
        "outputId": "2a1f9a56-353d-4244-cad3-ccc879edf642"
      },
      "source": [
        "m = tf.range(0,6,2)\n",
        "m.eval()"
      ],
      "execution_count": null,
      "outputs": [
        {
          "output_type": "execute_result",
          "data": {
            "text/plain": [
              "array([0, 2, 4], dtype=int32)"
            ]
          },
          "metadata": {
            "tags": []
          },
          "execution_count": 21
        }
      ]
    },
    {
      "cell_type": "code",
      "metadata": {
        "id": "XELbQr_PMuQF",
        "colab": {
          "base_uri": "https://localhost:8080/",
          "height": 34
        },
        "outputId": "e9149645-41e5-4178-c7c5-8277a7f61c84"
      },
      "source": [
        "m = tf.to_float(m)\n",
        "m.eval()"
      ],
      "execution_count": null,
      "outputs": [
        {
          "output_type": "execute_result",
          "data": {
            "text/plain": [
              "array([0., 2., 4.], dtype=float32)"
            ]
          },
          "metadata": {
            "tags": []
          },
          "execution_count": 22
        }
      ]
    },
    {
      "cell_type": "code",
      "metadata": {
        "id": "UalBQRMXM64z",
        "colab": {
          "base_uri": "https://localhost:8080/",
          "height": 221
        },
        "outputId": "f8787189-cf8f-4d85-b540-c833969e3994"
      },
      "source": [
        "n = tf.to_int32(m)+l\n",
        "n.eval()"
      ],
      "execution_count": null,
      "outputs": [
        {
          "output_type": "execute_result",
          "data": {
            "text/plain": [
              "array([[ 35,  12,  14],\n",
              "       [ 10,  12,  14],\n",
              "       [ 12,  50,  16],\n",
              "       [ 12,  14,  16],\n",
              "       [ 14,  16,  67],\n",
              "       [ 14,  16,  18],\n",
              "       [ 16,  18,  20],\n",
              "       [ 80,  18,  20],\n",
              "       [ 18,  20,  22],\n",
              "       [ 18, 101,  22],\n",
              "       [ 20,  22,  24],\n",
              "       [ 20,  22, 124]], dtype=int32)"
            ]
          },
          "metadata": {
            "tags": []
          },
          "execution_count": 23
        }
      ]
    },
    {
      "cell_type": "code",
      "metadata": {
        "id": "vYJGhhNTNFY2",
        "colab": {
          "base_uri": "https://localhost:8080/",
          "height": 51
        },
        "outputId": "1b89a006-dc62-429a-8999-9eb93fef0a7e"
      },
      "source": [
        "sess = tf.Session()\n",
        "b = tf.ones((2,2))\n",
        "b.eval(session=sess)"
      ],
      "execution_count": null,
      "outputs": [
        {
          "output_type": "execute_result",
          "data": {
            "text/plain": [
              "array([[1., 1.],\n",
              "       [1., 1.]], dtype=float32)"
            ]
          },
          "metadata": {
            "tags": []
          },
          "execution_count": 24
        }
      ]
    },
    {
      "cell_type": "code",
      "metadata": {
        "id": "4TjXJg9SU_hb",
        "colab": {
          "base_uri": "https://localhost:8080/",
          "height": 51
        },
        "outputId": "d541e045-4cbf-469f-fffe-ea29e53598c0"
      },
      "source": [
        "b.eval()"
      ],
      "execution_count": null,
      "outputs": [
        {
          "output_type": "execute_result",
          "data": {
            "text/plain": [
              "array([[1., 1.],\n",
              "       [1., 1.]], dtype=float32)"
            ]
          },
          "metadata": {
            "tags": []
          },
          "execution_count": 25
        }
      ]
    },
    {
      "cell_type": "code",
      "metadata": {
        "id": "G5oLL5iWVJb2",
        "colab": {
          "base_uri": "https://localhost:8080/",
          "height": 34
        },
        "outputId": "71c333eb-67e0-4253-9bc1-092c009014ca"
      },
      "source": [
        "tf.get_default_graph()"
      ],
      "execution_count": null,
      "outputs": [
        {
          "output_type": "execute_result",
          "data": {
            "text/plain": [
              "<tensorflow.python.framework.ops.Graph at 0x7f7ca5e790f0>"
            ]
          },
          "metadata": {
            "tags": []
          },
          "execution_count": 26
        }
      ]
    },
    {
      "cell_type": "code",
      "metadata": {
        "id": "2dbn_qRkVra3",
        "colab": {
          "base_uri": "https://localhost:8080/",
          "height": 88
        },
        "outputId": "06cd7ea3-93db-48b9-9946-5a288652e494"
      },
      "source": [
        "a = tf.Variable(tf.zeros((2,2)))"
      ],
      "execution_count": null,
      "outputs": [
        {
          "output_type": "stream",
          "text": [
            "WARNING:tensorflow:From /usr/local/lib/python3.6/dist-packages/tensorflow/python/framework/op_def_library.py:263: colocate_with (from tensorflow.python.framework.ops) is deprecated and will be removed in a future version.\n",
            "Instructions for updating:\n",
            "Colocations handled automatically by placer.\n"
          ],
          "name": "stdout"
        }
      ]
    },
    {
      "cell_type": "code",
      "metadata": {
        "id": "P3SzlNs5VzlC",
        "colab": {
          "base_uri": "https://localhost:8080/",
          "height": 51
        },
        "outputId": "ae7bd8b2-131d-49d5-ca6a-ca685f978b59"
      },
      "source": [
        "sess = tf.Session()\n",
        "sess.run(tf.global_variables_initializer())\n",
        "a.eval(session=sess)"
      ],
      "execution_count": null,
      "outputs": [
        {
          "output_type": "execute_result",
          "data": {
            "text/plain": [
              "array([[0., 0.],\n",
              "       [0., 0.]], dtype=float32)"
            ]
          },
          "metadata": {
            "tags": []
          },
          "execution_count": 28
        }
      ]
    },
    {
      "cell_type": "code",
      "metadata": {
        "id": "ZclCmvHTWcDI",
        "colab": {
          "base_uri": "https://localhost:8080/",
          "height": 51
        },
        "outputId": "1edc2563-980f-4c28-c343-4561b87adbef"
      },
      "source": [
        "sess.run(a.assign(tf.ones((2,2))))\n",
        "a.eval(session=sess)"
      ],
      "execution_count": null,
      "outputs": [
        {
          "output_type": "execute_result",
          "data": {
            "text/plain": [
              "array([[1., 1.],\n",
              "       [1., 1.]], dtype=float32)"
            ]
          },
          "metadata": {
            "tags": []
          },
          "execution_count": 29
        }
      ]
    },
    {
      "cell_type": "code",
      "metadata": {
        "id": "nIt50pOxW8ds"
      },
      "source": [
        ""
      ],
      "execution_count": null,
      "outputs": []
    }
  ]
}